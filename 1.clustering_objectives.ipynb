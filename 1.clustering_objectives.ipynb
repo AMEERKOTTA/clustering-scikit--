{
 "cells": [
  {
   "cell_type": "markdown",
   "metadata": {},
   "source": [
    "## K-Means Clustering"
   ]
  },
  {
   "cell_type": "markdown",
   "metadata": {},
   "source": [
    "+ There are several Clustering Algorithms\n",
    "\n",
    "+ In this Repository, it is going to discuss about Clustering Algorithms.\n",
    "\n",
    "+ Clustering Algorithms are used to discover insights from **unlabelled data**.\n",
    "\n",
    "+ Here, Defining Customer Segmentation using KMeans"
   ]
  },
  {
   "cell_type": "markdown",
   "metadata": {},
   "source": [
    "**Applications of KMeans Clustering Algorithms**\n",
    "\n",
    "+ Customer Segmentation\n",
    "+ Understand the Visitors of a website .\n",
    "+ Pattern Recognition\n",
    "+ Machine Learning\n",
    "+ Data Compression"
   ]
  },
  {
   "cell_type": "code",
   "execution_count": null,
   "metadata": {},
   "outputs": [],
   "source": []
  }
 ],
 "metadata": {
  "kernelspec": {
   "display_name": "Python",
   "language": "python",
   "name": "conda-env-python-py"
  },
  "language_info": {
   "codemirror_mode": {
    "name": "ipython",
    "version": 3
   },
   "file_extension": ".py",
   "mimetype": "text/x-python",
   "name": "python",
   "nbconvert_exporter": "python",
   "pygments_lexer": "ipython3",
   "version": "3.6.11"
  }
 },
 "nbformat": 4,
 "nbformat_minor": 4
}
